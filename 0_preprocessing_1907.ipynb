{
 "cells": [
  {
   "cell_type": "code",
   "execution_count": 1,
   "id": "1f6ce426",
   "metadata": {},
   "outputs": [
    {
     "name": "stderr",
     "output_type": "stream",
     "text": [
      "C:\\Users\\minha\\Anaconda3\\lib\\site-packages\\gensim\\similarities\\__init__.py:15: UserWarning: The gensim.similarities.levenshtein submodule is disabled, because the optional Levenshtein package <https://pypi.org/project/python-Levenshtein/> is unavailable. Install Levenhstein (e.g. `pip install python-Levenshtein`) to suppress this warning.\n",
      "  warnings.warn(msg)\n"
     ]
    }
   ],
   "source": [
    "#loading important packages\n",
    "import pandas as pd\n",
    "import numpy as np\n",
    "import matplotlib.pyplot as plt\n",
    "import seaborn as sns\n",
    "from datetime import datetime, timedelta\n",
    "import glob\n",
    "import gensim"
   ]
  },
  {
   "cell_type": "code",
   "execution_count": 4,
   "id": "b0d3aebc",
   "metadata": {},
   "outputs": [],
   "source": [
    "#important changes to save the plots\n",
    "import time\n",
    "\n",
    "saving_path=\"C:/Users/minha/Desktop/plots_new/updated/\"\n",
    "font = {'family' : \"Times New Roman\",\n",
    "         'weight' : 'normal',\n",
    "         'size'   : 10}\n",
    "plt.rc('font', **font)"
   ]
  },
  {
   "cell_type": "code",
   "execution_count": 2,
   "id": "139d0363",
   "metadata": {},
   "outputs": [],
   "source": [
    "##reading meatadata from excel files\n",
    "import os\n",
    "path = r'C:\\Users\\minha\\Desktop\\Thesis\\scripts\\FH'\n",
    "file_list = glob.glob(os.path.join(path, \"*.xls\"))\n",
    "li = []\n",
    "for file in file_list:\n",
    "    df = pd.read_excel(file)\n",
    "    li.append(df)\n",
    "wos_df = pd.concat(li,axis=0,ignore_index = True) #include all books and journals\n",
    "wos=wos_df.astype(str)\n",
    "\n",
    "#wos = wos_df[wos_df['Publication Type']==\"J\"].astype(str) ## taking only thee Journals and articles.\n",
    "#wos = wos[wos[\"Publication Year\"]==\"2020.0\"]\n",
    "#wos.to_pickle(\"wos.pkl\") #saving intidal datframe as pickle"
   ]
  },
  {
   "cell_type": "code",
   "execution_count": 3,
   "id": "d49f8805",
   "metadata": {},
   "outputs": [],
   "source": [
    "#numbers changing to float\n",
    "wos[\"Publication Year\"]=wos[\"Publication Year\"].fillna(wos['Early Access Date'].str[3:8]).astype(\"float\")\n",
    "wos[\"Publication Year\"]=wos[\"Publication Year\"].fillna(wos['Early Access Date'].str[3:8]).astype(\"float\")\n",
    "wos=wos.sort_values(\"Publication Year\")"
   ]
  },
  {
   "cell_type": "code",
   "execution_count": 5,
   "id": "9bdd04aa",
   "metadata": {},
   "outputs": [
    {
     "data": {
      "image/png": "[encoded data removed]",
      "text/plain": [
       "<Figure size 432x288 with 1 Axes>"
      ]
     },
     "metadata": {},
     "output_type": "display_data"
    }
   ],
   "source": [
    "#Plotting line plots for number of artciles per year\n",
    "wos[\"Publication Year\"] = wos[\"Publication Year\"].astype(float)\n",
    "\n",
    "#extract = wos[(wos['Publication Year']>=1990)&(wos['Publication Year']<2020)].reset_index(drop=True)\n",
    "table = wos.groupby([\"Publication Year\"]).count()\n",
    "\n",
    "%matplotlib inline\n",
    "plt.style.use('seaborn-whitegrid')\n",
    "plt.plot(table.index, table[\"Abstract\"], marker='.', linestyle='solid', mfc='none', mec='darkviolet',color='darkviolet',linewidth=2,\n",
    "        mew=2)\n",
    "plt.xlabel(\"Year\",alpha=0.6)\n",
    "plt.ylabel(\"Number of articles\",alpha=0.6)\n",
    "#plt.legend(\"coherence_values\", loc='best')\n",
    "#plt.savefig(saving_path+\"numberofarticles_\"+ time.strftime(\"%Y-%m-%d %H%M%S\") + \".png\",dpi=300)\n",
    "plt.show()"
   ]
  },
  {
   "cell_type": "markdown",
   "id": "64b6d105",
   "metadata": {},
   "source": [
    "### CLEANING PHASE : 1"
   ]
  },
  {
   "cell_type": "code",
   "execution_count": 6,
   "id": "7740f522",
   "metadata": {},
   "outputs": [],
   "source": [
    "##text cleaning 1\n",
    "import re\n",
    "import string\n",
    "def text_cleaning1(text):\n",
    "    '''Make text lowercase, remove text in square brackets, remove punctuation and remove words containing numbers.'''\n",
    "    text = text.lower()\n",
    "    text = re.sub('\\[.*?\\]', '', text)\n",
    "    text = re.sub('[%s]' % re.escape(string.punctuation), '', text)\n",
    "    text = re.sub('\\w*\\d\\w*', '', text)\n",
    "    text = re.sub('[‘’“”…]', '', text)\n",
    "    text = re.sub('\\n', '', text)\n",
    "    text = re.sub('nan','',text)\n",
    "    return text\n",
    "phase1 = lambda x: text_cleaning1(x)"
   ]
  },
  {
   "cell_type": "code",
   "execution_count": 7,
   "id": "85859fa9",
   "metadata": {},
   "outputs": [],
   "source": [
    "#cleand datframe\n",
    "data_clean = pd.DataFrame()\n",
    "pd.set_option('max_colwidth',150)\n",
    "data_clean[\"Year\"] = wos['Publication Year']\n",
    "data_clean['Abstract'] = wos[\"Abstract\"].apply(phase1)\n",
    "data_clean['Article Title'] = wos[\"Article Title\"].apply(phase1)\n",
    "data_clean['Author Keywords'] = wos[\"Author Keywords\"].apply(phase1)\n",
    "data_clean[\"words\"] = data_clean['Abstract']+\" \"+data_clean['Article Title']+\" \"+data_clean['Author Keywords']"
   ]
  },
  {
   "cell_type": "markdown",
   "id": "2d2670d7",
   "metadata": {},
   "source": [
    "### CLEANING PHASE : 2"
   ]
  },
  {
   "cell_type": "code",
   "execution_count": 9,
   "id": "aeb338d7",
   "metadata": {},
   "outputs": [],
   "source": [
    "from nltk.tokenize import sent_tokenize, word_tokenize\n",
    "from nltk.stem import WordNetLemmatizer \n",
    "\n",
    "# Init the Wordnet Lemmatizer\n",
    "lemmatizer = WordNetLemmatizer()\n",
    "def stemSentence(sentence):\n",
    "    token_words=word_tokenize(sentence)\n",
    "    token_words\n",
    "    stem_sentence=[]\n",
    "    for word in token_words:\n",
    "        stem_sentence.append(lemmatizer.lemmatize(word))\n",
    "        stem_sentence.append(\" \")\n",
    "    return \"\".join(stem_sentence)\n",
    "stem = lambda y:stemSentence(y)"
   ]
  },
  {
   "cell_type": "code",
   "execution_count": 10,
   "id": "d9e6d82a",
   "metadata": {},
   "outputs": [],
   "source": [
    "data_clean[\"final\"] = data_clean['words'].apply(stem)"
   ]
  },
  {
   "cell_type": "markdown",
   "id": "65420d2f",
   "metadata": {},
   "source": [
    "### CLEANING PHASE : 3"
   ]
  },
  {
   "cell_type": "code",
   "execution_count": 14,
   "id": "f950c8be",
   "metadata": {},
   "outputs": [],
   "source": [
    "# Change each document to a list of words\n",
    "def sent_to_words(sentences):\n",
    "    for sentence in sentences:\n",
    "        yield(gensim.utils.simple_preprocess(str(sentence), deacc=True))  # deacc=True removes punctuations\n",
    "\n",
    "data_words = list(sent_to_words(corpus_clean))"
   ]
  },
  {
   "cell_type": "code",
   "execution_count": 15,
   "id": "95966c15",
   "metadata": {},
   "outputs": [],
   "source": [
    "# Build the bigram and trigram models\n",
    "bigram = gensim.models.Phrases(data_words, min_count=5, threshold=100) # higher threshold fewer phrases.\n",
    "trigram = gensim.models.Phrases(bigram[data_words], threshold=100)  \n",
    "\n",
    "# Faster way to get a sentence clubbed as a trigram/bigram\n",
    "bigram_mod = gensim.models.phrases.Phraser(bigram)\n",
    "trigram_mod = gensim.models.phrases.Phraser(trigram)"
   ]
  },
  {
   "cell_type": "code",
   "execution_count": 16,
   "id": "2a242d19",
   "metadata": {},
   "outputs": [],
   "source": [
    "# Define functions for stopwords, bigrams, trigrams and lemmatization\n",
    "def remove_stopwords(texts):\n",
    "    return [[word for word in simple_preprocess(str(doc)) if word not in stop_words] for doc in texts]\n",
    "\n",
    "def make_bigrams(texts):\n",
    "    return [bigram_mod[doc] for doc in texts]\n",
    "\n",
    "def make_trigrams(texts):\n",
    "    return [trigram_mod[bigram_mod[doc]] for doc in texts]\n",
    "\n",
    "def lemmatization(texts, allowed_postags=['NOUN', 'ADJ', 'VERB', 'ADV']):\n",
    "    \"\"\"https://spacy.io/api/annotation\"\"\"\n",
    "    texts_out = []\n",
    "    for sent in texts:\n",
    "        doc = nlp(\" \".join(sent)) \n",
    "        texts_out.append([token.lemma_ for token in doc if token.pos_ in allowed_postags])\n",
    "    return texts_out"
   ]
  },
  {
   "cell_type": "code",
   "execution_count": 17,
   "id": "a8d2d8d3",
   "metadata": {},
   "outputs": [],
   "source": [
    "# NLTK stop words\n",
    "from nltk.corpus import stopwords \n",
    "from gensim.utils import simple_preprocess\n",
    "stop_words = stopwords.words('english')\n",
    "stop_words.extend(['from','wa','ter' 'subject', 're', 'edu', 'use',\"copyright\",\"elselvier\",\"author\",\"example\",\"other\",\"vadi\"])\n",
    "\n",
    "# Remove stop words\n",
    "data_words_nostops = remove_stopwords(data_words)\n",
    "\n",
    "# Form bigrams\n",
    "data_words_bigrams = make_bigrams(data_words_nostops)"
   ]
  },
  {
   "cell_type": "code",
   "execution_count": 18,
   "id": "3ae0e29e",
   "metadata": {},
   "outputs": [],
   "source": [
    "# Initialize spacy 'en' model, keeping only tagger component (for efficiency)\n",
    "# Must run this command separately, but only once: python3 -m spacy download en\n",
    "import spacy\n",
    "nlp = spacy.load('en_core_web_sm', disable=['parser', 'ner'])\n",
    "\n",
    "# Do lemmatization keeping only noun, adj, vb, adv\n",
    "data_lemmatized = lemmatization(data_words_bigrams, allowed_postags=['NOUN', 'ADJ', 'VERB', 'ADV'])"
   ]
  },
  {
   "cell_type": "markdown",
   "id": "24171c7d",
   "metadata": {},
   "source": [
    "### PREPARING LDA INPUT"
   ]
  },
  {
   "cell_type": "code",
   "execution_count": 44,
   "id": "606e0c29",
   "metadata": {},
   "outputs": [],
   "source": [
    "# Create Dictionary\n",
    "from gensim import corpora\n",
    "id2word = corpora.Dictionary(data_lemmatized)\n",
    "\n",
    "# Create Corpus\n",
    "texts = data_lemmatized\n",
    "\n",
    "# Term Document Frequency\n",
    "corpus = [id2word.doc2bow(text) for text in texts]"
   ]
  },
  {
   "cell_type": "code",
   "execution_count": 45,
   "id": "407016a1",
   "metadata": {},
   "outputs": [],
   "source": [
    "# Save the corpus\n",
    "import pickle\n",
    "data_clean.to_pickle(\"pickled_1907/raw_corpus.pkl\")\n",
    "\n",
    "with open(\"pickled_1907/data_lemmatized.pkl\", 'wb') as f:\n",
    "     pickle.dump(data_lemmatized, f)\n",
    "        \n",
    "with open(\"pickled_1907/id2word.pkl\", 'wb') as f:\n",
    "     pickle.dump(id2word, f)\n",
    "        \n",
    "with open(\"pickled_1907/cleaned_corpus.pkl\", 'wb') as f:\n",
    "     pickle.dump(corpus, f)"
   ]
  }
 ],
 "metadata": {
  "kernelspec": {
   "display_name": "Python 3",
   "language": "python",
   "name": "python3"
  },
  "language_info": {
   "codemirror_mode": {
    "name": "ipython",
    "version": 3
   },
   "file_extension": ".py",
   "mimetype": "text/x-python",
   "name": "python",
   "nbconvert_exporter": "python",
   "pygments_lexer": "ipython3",
   "version": "3.8.8"
  }
 },
 "nbformat": 4,
 "nbformat_minor": 5
}
